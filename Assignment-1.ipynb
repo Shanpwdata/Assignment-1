{
 "cells": [
  {
   "cell_type": "code",
   "execution_count": 16,
   "id": "e94f7a80-3f8d-4b25-b6a8-77af5ac3ff10",
   "metadata": {},
   "outputs": [],
   "source": [
    "name = (\"Shantam\")"
   ]
  },
  {
   "cell_type": "code",
   "execution_count": 17,
   "id": "3f71f693-2df1-4492-b51c-04b15705a520",
   "metadata": {},
   "outputs": [
    {
     "name": "stdout",
     "output_type": "stream",
     "text": [
      "Shantam\n"
     ]
    }
   ],
   "source": [
    "print(name)"
   ]
  },
  {
   "cell_type": "code",
   "execution_count": 18,
   "id": "4b1208f3-53fd-4220-bc6c-169976aaa13e",
   "metadata": {},
   "outputs": [
    {
     "data": {
      "text/plain": [
       "str"
      ]
     },
     "execution_count": 18,
     "metadata": {},
     "output_type": "execute_result"
    }
   ],
   "source": [
    "type(name)"
   ]
  },
  {
   "cell_type": "code",
   "execution_count": 19,
   "id": "1d9af2c9-3b24-4f4e-a849-1b13a6c2fba6",
   "metadata": {},
   "outputs": [],
   "source": [
    "marks = [2, 4, 6, 8, 1, 3, 5, 7, 9]"
   ]
  },
  {
   "cell_type": "code",
   "execution_count": 20,
   "id": "d18d3362-a028-4451-ab73-d8f42e85bf1f",
   "metadata": {},
   "outputs": [
    {
     "name": "stdout",
     "output_type": "stream",
     "text": [
      "[2, 4, 6, 8, 1, 3, 5, 7, 9]\n"
     ]
    }
   ],
   "source": [
    "print(marks)"
   ]
  },
  {
   "cell_type": "code",
   "execution_count": 21,
   "id": "e433fd62-f866-4f40-b0a3-1190b19c4997",
   "metadata": {},
   "outputs": [
    {
     "data": {
      "text/plain": [
       "list"
      ]
     },
     "execution_count": 21,
     "metadata": {},
     "output_type": "execute_result"
    }
   ],
   "source": [
    "type(marks)"
   ]
  },
  {
   "cell_type": "code",
   "execution_count": 31,
   "id": "d8416744-6bba-4454-b276-db7b49ef21d5",
   "metadata": {},
   "outputs": [],
   "source": [
    "a = 45.8595"
   ]
  },
  {
   "cell_type": "code",
   "execution_count": 32,
   "id": "f040c986-04f3-4379-9f4a-6a1ba39e349a",
   "metadata": {},
   "outputs": [
    {
     "data": {
      "text/plain": [
       "45.8595"
      ]
     },
     "execution_count": 32,
     "metadata": {},
     "output_type": "execute_result"
    }
   ],
   "source": [
    "a"
   ]
  },
  {
   "cell_type": "code",
   "execution_count": 33,
   "id": "27fb37d0-2616-4220-97c2-1e44a45c4a9b",
   "metadata": {},
   "outputs": [
    {
     "data": {
      "text/plain": [
       "float"
      ]
     },
     "execution_count": 33,
     "metadata": {},
     "output_type": "execute_result"
    }
   ],
   "source": [
    "type(a)"
   ]
  },
  {
   "cell_type": "code",
   "execution_count": 34,
   "id": "fbfd1268-90ad-4848-8011-24c8f144007a",
   "metadata": {},
   "outputs": [],
   "source": [
    "valuedata = (485, 'can not be change')"
   ]
  },
  {
   "cell_type": "code",
   "execution_count": 35,
   "id": "6521f457-8f21-4012-be4c-2906a503d5e2",
   "metadata": {},
   "outputs": [
    {
     "data": {
      "text/plain": [
       "(485, 'can not be change')"
      ]
     },
     "execution_count": 35,
     "metadata": {},
     "output_type": "execute_result"
    }
   ],
   "source": [
    "valuedata"
   ]
  },
  {
   "cell_type": "code",
   "execution_count": 36,
   "id": "76ef376c-dbb2-4219-a9cb-57ce1340cc6b",
   "metadata": {},
   "outputs": [
    {
     "data": {
      "text/plain": [
       "tuple"
      ]
     },
     "execution_count": 36,
     "metadata": {},
     "output_type": "execute_result"
    }
   ],
   "source": [
    "type(valuedata)"
   ]
  },
  {
   "cell_type": "code",
   "execution_count": null,
   "id": "af44d2fe-925b-48b2-b409-5fbe51d46499",
   "metadata": {},
   "outputs": [],
   "source": []
  }
 ],
 "metadata": {
  "kernelspec": {
   "display_name": "Python 3 (ipykernel)",
   "language": "python",
   "name": "python3"
  },
  "language_info": {
   "codemirror_mode": {
    "name": "ipython",
    "version": 3
   },
   "file_extension": ".py",
   "mimetype": "text/x-python",
   "name": "python",
   "nbconvert_exporter": "python",
   "pygments_lexer": "ipython3",
   "version": "3.10.8"
  }
 },
 "nbformat": 4,
 "nbformat_minor": 5
}
